{
 "cells": [
  {
   "cell_type": "code",
   "execution_count": 1,
   "metadata": {},
   "outputs": [
    {
     "name": "stdout",
     "output_type": "stream",
     "text": [
      "Hens 30.0\n"
     ]
    }
   ],
   "source": [
    "print(\"Hens\",25 + 30 / 6)"
   ]
  },
  {
   "cell_type": "code",
   "execution_count": 2,
   "metadata": {},
   "outputs": [
    {
     "name": "stdout",
     "output_type": "stream",
     "text": [
      "Now I will cuont the eggs:\n"
     ]
    }
   ],
   "source": [
    "print(\"Now I will cuont the eggs:\")"
   ]
  },
  {
   "cell_type": "code",
   "execution_count": 3,
   "metadata": {},
   "outputs": [
    {
     "name": "stdout",
     "output_type": "stream",
     "text": [
      "Roosters 97\n"
     ]
    }
   ],
   "source": [
    "print(\"Roosters\",100 - 25 * 3 % 4)"
   ]
  },
  {
   "cell_type": "code",
   "execution_count": 4,
   "metadata": {},
   "outputs": [
    {
     "name": "stdout",
     "output_type": "stream",
     "text": [
      "6.75\n"
     ]
    }
   ],
   "source": [
    "print(3 + 2 + 1 - 5 + 4 % 2 -1 / 4 + 6)"
   ]
  },
  {
   "cell_type": "code",
   "execution_count": 5,
   "metadata": {},
   "outputs": [
    {
     "name": "stdout",
     "output_type": "stream",
     "text": [
      "False\n"
     ]
    }
   ],
   "source": [
    "print(3 + 2 < 5 - 7)"
   ]
  },
  {
   "cell_type": "code",
   "execution_count": 7,
   "metadata": {},
   "outputs": [
    {
     "name": "stdout",
     "output_type": "stream",
     "text": [
      "what is 3 + 2? 5\n"
     ]
    }
   ],
   "source": [
    "print(\"what is 3 + 2?\", 3 + 2)"
   ]
  },
  {
   "cell_type": "code",
   "execution_count": 8,
   "metadata": {},
   "outputs": [
    {
     "name": "stdout",
     "output_type": "stream",
     "text": [
      "what is 5 - 7? -2\n"
     ]
    }
   ],
   "source": [
    "print(\"what is 5 - 7?\",5 - 7)"
   ]
  },
  {
   "cell_type": "code",
   "execution_count": 9,
   "metadata": {},
   "outputs": [
    {
     "name": "stdout",
     "output_type": "stream",
     "text": [
      "Oh,that's why it's False.\n"
     ]
    }
   ],
   "source": [
    "print(\"Oh,that's why it's False.\")"
   ]
  },
  {
   "cell_type": "code",
   "execution_count": 10,
   "metadata": {},
   "outputs": [
    {
     "name": "stdout",
     "output_type": "stream",
     "text": [
      "How abount some more.\n"
     ]
    }
   ],
   "source": [
    "print(\"How abount some more.\")"
   ]
  },
  {
   "cell_type": "code",
   "execution_count": 11,
   "metadata": {},
   "outputs": [
    {
     "name": "stdout",
     "output_type": "stream",
     "text": [
      "Is it greater? True\n"
     ]
    }
   ],
   "source": [
    "print(\"Is it greater?\",5> -2)"
   ]
  },
  {
   "cell_type": "code",
   "execution_count": 12,
   "metadata": {},
   "outputs": [
    {
     "name": "stdout",
     "output_type": "stream",
     "text": [
      "is it greater or equal? True\n"
     ]
    }
   ],
   "source": [
    "print(\"is it greater or equal?\", 5>= -2)"
   ]
  },
  {
   "cell_type": "code",
   "execution_count": 13,
   "metadata": {},
   "outputs": [
    {
     "name": "stdout",
     "output_type": "stream",
     "text": [
      "is it less or equal? False\n"
     ]
    }
   ],
   "source": [
    "print(\"is it less or equal?\", 5<= -2)"
   ]
  },
  {
   "cell_type": "code",
   "execution_count": 6,
   "metadata": {},
   "outputs": [],
   "source": [
    "#cars= 100"
   ]
  },
  {
   "cell_type": "code",
   "execution_count": 10,
   "metadata": {
    "scrolled": true
   },
   "outputs": [
    {
     "name": "stdout",
     "output_type": "stream",
     "text": [
      "there are 100 cars available.\n"
     ]
    }
   ],
   "source": [
    "cars=100\n",
    "print(\"there are\", cars,\"cars available.\")"
   ]
  },
  {
   "cell_type": "code",
   "execution_count": 12,
   "metadata": {},
   "outputs": [
    {
     "name": "stdout",
     "output_type": "stream",
     "text": [
      "there are only 30 drivers available\n"
     ]
    }
   ],
   "source": [
    "drivers = 30\n",
    "print(\"there are only\",drivers,\"drivers available\")"
   ]
  },
  {
   "cell_type": "code",
   "execution_count": 15,
   "metadata": {},
   "outputs": [
    {
     "name": "stdout",
     "output_type": "stream",
     "text": [
      "there will be 70 empty cars today.\n"
     ]
    }
   ],
   "source": [
    "cars_not_driven = cars - drivers\n",
    "print(\"there will be\", cars_not_driven,\"empty cars today.\")"
   ]
  },
  {
   "cell_type": "code",
   "execution_count": 17,
   "metadata": {},
   "outputs": [
    {
     "name": "stdout",
     "output_type": "stream",
     "text": [
      "We have 90 to carpool today.\n"
     ]
    }
   ],
   "source": [
    "passengers = 90\n",
    "print(\"We have\", passengers,\"to carpool today.\")"
   ]
  },
  {
   "cell_type": "code",
   "execution_count": 21,
   "metadata": {},
   "outputs": [
    {
     "name": "stdout",
     "output_type": "stream",
     "text": [
      "We can transport 120.0 people today.\n"
     ]
    }
   ],
   "source": [
    "cars_driven = drivers\n",
    "space_in_a_car = 4.0\n",
    "carpool_capacity = cars_driven * space_in_a_car\n",
    "print(\"We can transport\", carpool_capacity,\"people today.\")"
   ]
  },
  {
   "cell_type": "code",
   "execution_count": 22,
   "metadata": {},
   "outputs": [
    {
     "name": "stdout",
     "output_type": "stream",
     "text": [
      "We need to put abuot 3.0 in each car.\n"
     ]
    }
   ],
   "source": [
    "cars_drivens = drivers\n",
    "passengers = 90\n",
    "average_passengers_per_car = passengers / cars_driven\n",
    "print(\"We need to put abuot\", average_passengers_per_car,\"in each car.\")"
   ]
  },
  {
   "cell_type": "code",
   "execution_count": 23,
   "metadata": {},
   "outputs": [
    {
     "name": "stdout",
     "output_type": "stream",
     "text": [
      "let's talk about Zed A. Shaw.\n"
     ]
    }
   ],
   "source": [
    "my_name = 'Zed A. Shaw'\n",
    "print(f\"let's talk about {my_name}.\")"
   ]
  },
  {
   "cell_type": "code",
   "execution_count": 24,
   "metadata": {},
   "outputs": [
    {
     "name": "stdout",
     "output_type": "stream",
     "text": [
      "He's 74 inches tall.\n"
     ]
    }
   ],
   "source": [
    "my_height = 74 # inches\n",
    "print(f\"He's {my_height} inches tall.\")"
   ]
  },
  {
   "cell_type": "code",
   "execution_count": 26,
   "metadata": {},
   "outputs": [
    {
     "name": "stdout",
     "output_type": "stream",
     "text": [
      "He's 180 pounds heavy.\n"
     ]
    }
   ],
   "source": [
    "my_weight = 180 # 1bs\n",
    "print(f\"He's {my_weight} pounds heavy.\")"
   ]
  },
  {
   "cell_type": "code",
   "execution_count": 28,
   "metadata": {},
   "outputs": [
    {
     "name": "stdout",
     "output_type": "stream",
     "text": [
      "Actually that's not too heavy.\n"
     ]
    }
   ],
   "source": [
    "print(\"Actually that's not too heavy.\")"
   ]
  },
  {
   "cell_type": "code",
   "execution_count": 30,
   "metadata": {},
   "outputs": [
    {
     "name": "stdout",
     "output_type": "stream",
     "text": [
      "He's got Blue eyes and Brown hair.\n"
     ]
    }
   ],
   "source": [
    "my_eyes = 'Blue'\n",
    "my_hair = 'Brown'\n",
    "print(f\"He's got {my_eyes} eyes and {my_hair} hair.\")\n",
    "      "
   ]
  },
  {
   "cell_type": "code",
   "execution_count": 32,
   "metadata": {},
   "outputs": [
    {
     "name": "stdout",
     "output_type": "stream",
     "text": [
      "His teeth are usually White depending on the bed.\n"
     ]
    }
   ],
   "source": [
    "my_teeth = 'White'\n",
    "print(f\"His teeth are usually {my_teeth} depending on the bed.\")"
   ]
  },
  {
   "cell_type": "code",
   "execution_count": null,
   "metadata": {},
   "outputs": [],
   "source": []
  }
 ],
 "metadata": {
  "kernelspec": {
   "display_name": "Python 3",
   "language": "python",
   "name": "python3"
  },
  "language_info": {
   "codemirror_mode": {
    "name": "ipython",
    "version": 3
   },
   "file_extension": ".py",
   "mimetype": "text/x-python",
   "name": "python",
   "nbconvert_exporter": "python",
   "pygments_lexer": "ipython3",
   "version": "3.7.0"
  }
 },
 "nbformat": 4,
 "nbformat_minor": 2
}
